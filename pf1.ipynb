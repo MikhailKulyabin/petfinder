{
 "cells": [
  {
   "cell_type": "code",
   "execution_count": 22,
   "metadata": {
    "ExecuteTime": {
     "end_time": "2019-03-01T16:13:29.684167Z",
     "start_time": "2019-03-01T16:13:29.523958Z"
    },
    "scrolled": false
   },
   "outputs": [
    {
     "name": "stdout",
     "output_type": "stream",
     "text": [
      "breed_labels.csv  color_labels.csv  state_labels.csv  \u001b[0m\u001b[01;34mtest\u001b[0m/  \u001b[01;34mtrain\u001b[0m/\r\n"
     ]
    }
   ],
   "source": [
    "ls /home/gsm/Documents/extras/kaggle/petfinder/"
   ]
  },
  {
   "cell_type": "code",
   "execution_count": 179,
   "metadata": {
    "ExecuteTime": {
     "end_time": "2019-03-02T12:48:41.246959Z",
     "start_time": "2019-03-02T12:48:41.238993Z"
    }
   },
   "outputs": [],
   "source": [
    "#cat /home/gsm/Documents/extras/kaggle/petfinder/state_labels.csv"
   ]
  },
  {
   "cell_type": "code",
   "execution_count": 115,
   "metadata": {
    "ExecuteTime": {
     "end_time": "2019-03-03T16:41:04.228097Z",
     "start_time": "2019-03-03T16:41:04.220290Z"
    }
   },
   "outputs": [],
   "source": [
    "import pandas as pd\n",
    "import numpy as np\n",
    "import matplotlib.pyplot as plt\n",
    "%matplotlib inline\n",
    "import warnings\n",
    "warnings.filterwarnings('ignore')"
   ]
  },
  {
   "cell_type": "code",
   "execution_count": 2,
   "metadata": {
    "ExecuteTime": {
     "end_time": "2019-03-03T13:12:14.228975Z",
     "start_time": "2019-03-03T13:12:14.091085Z"
    }
   },
   "outputs": [],
   "source": [
    "df = pd.read_csv('/home/gsm/Documents/extras/kaggle/petfinder/train/train.csv')\n",
    "#drop_names = ['RescuerID','FurLength','Name','Color3']\n",
    "#ddf = df.drop(columns=drop_names)"
   ]
  },
  {
   "cell_type": "code",
   "execution_count": 3,
   "metadata": {
    "ExecuteTime": {
     "end_time": "2019-03-03T13:12:14.500442Z",
     "start_time": "2019-03-03T13:12:14.471468Z"
    }
   },
   "outputs": [
    {
     "data": {
      "text/plain": [
       "AdoptionSpeed\n",
       "0     12.0\n",
       "1     52.0\n",
       "2    173.0\n",
       "3    223.0\n",
       "4     90.0\n",
       "dtype: float64"
      ]
     },
     "execution_count": 3,
     "metadata": {},
     "output_type": "execute_result"
    }
   ],
   "source": [
    "df.groupby('AdoptionSpeed').RescuerID.value_counts().unstack().max(axis=1)"
   ]
  },
  {
   "cell_type": "code",
   "execution_count": 4,
   "metadata": {
    "ExecuteTime": {
     "end_time": "2019-03-03T13:12:15.662452Z",
     "start_time": "2019-03-03T13:12:15.630161Z"
    }
   },
   "outputs": [
    {
     "data": {
      "text/html": [
       "<div>\n",
       "<style scoped>\n",
       "    .dataframe tbody tr th:only-of-type {\n",
       "        vertical-align: middle;\n",
       "    }\n",
       "\n",
       "    .dataframe tbody tr th {\n",
       "        vertical-align: top;\n",
       "    }\n",
       "\n",
       "    .dataframe thead th {\n",
       "        text-align: right;\n",
       "    }\n",
       "</style>\n",
       "<table border=\"1\" class=\"dataframe\">\n",
       "  <thead>\n",
       "    <tr style=\"text-align: right;\">\n",
       "      <th></th>\n",
       "      <th>Type</th>\n",
       "      <th>Name</th>\n",
       "      <th>Age</th>\n",
       "      <th>Breed1</th>\n",
       "      <th>Breed2</th>\n",
       "      <th>Gender</th>\n",
       "      <th>Color1</th>\n",
       "      <th>Color2</th>\n",
       "      <th>Color3</th>\n",
       "      <th>MaturitySize</th>\n",
       "      <th>...</th>\n",
       "      <th>Health</th>\n",
       "      <th>Quantity</th>\n",
       "      <th>Fee</th>\n",
       "      <th>State</th>\n",
       "      <th>RescuerID</th>\n",
       "      <th>VideoAmt</th>\n",
       "      <th>Description</th>\n",
       "      <th>PetID</th>\n",
       "      <th>PhotoAmt</th>\n",
       "      <th>AdoptionSpeed</th>\n",
       "    </tr>\n",
       "  </thead>\n",
       "  <tbody>\n",
       "    <tr>\n",
       "      <th>0</th>\n",
       "      <td>2</td>\n",
       "      <td>Nibble</td>\n",
       "      <td>3</td>\n",
       "      <td>299</td>\n",
       "      <td>0</td>\n",
       "      <td>1</td>\n",
       "      <td>1</td>\n",
       "      <td>7</td>\n",
       "      <td>0</td>\n",
       "      <td>1</td>\n",
       "      <td>...</td>\n",
       "      <td>1</td>\n",
       "      <td>1</td>\n",
       "      <td>100</td>\n",
       "      <td>41326</td>\n",
       "      <td>8480853f516546f6cf33aa88cd76c379</td>\n",
       "      <td>0</td>\n",
       "      <td>Nibble is a 3+ month old ball of cuteness. He ...</td>\n",
       "      <td>86e1089a3</td>\n",
       "      <td>1.0</td>\n",
       "      <td>2</td>\n",
       "    </tr>\n",
       "    <tr>\n",
       "      <th>1</th>\n",
       "      <td>2</td>\n",
       "      <td>No Name Yet</td>\n",
       "      <td>1</td>\n",
       "      <td>265</td>\n",
       "      <td>0</td>\n",
       "      <td>1</td>\n",
       "      <td>1</td>\n",
       "      <td>2</td>\n",
       "      <td>0</td>\n",
       "      <td>2</td>\n",
       "      <td>...</td>\n",
       "      <td>1</td>\n",
       "      <td>1</td>\n",
       "      <td>0</td>\n",
       "      <td>41401</td>\n",
       "      <td>3082c7125d8fb66f7dd4bff4192c8b14</td>\n",
       "      <td>0</td>\n",
       "      <td>I just found it alone yesterday near my apartm...</td>\n",
       "      <td>6296e909a</td>\n",
       "      <td>2.0</td>\n",
       "      <td>0</td>\n",
       "    </tr>\n",
       "    <tr>\n",
       "      <th>2</th>\n",
       "      <td>1</td>\n",
       "      <td>Brisco</td>\n",
       "      <td>1</td>\n",
       "      <td>307</td>\n",
       "      <td>0</td>\n",
       "      <td>1</td>\n",
       "      <td>2</td>\n",
       "      <td>7</td>\n",
       "      <td>0</td>\n",
       "      <td>2</td>\n",
       "      <td>...</td>\n",
       "      <td>1</td>\n",
       "      <td>1</td>\n",
       "      <td>0</td>\n",
       "      <td>41326</td>\n",
       "      <td>fa90fa5b1ee11c86938398b60abc32cb</td>\n",
       "      <td>0</td>\n",
       "      <td>Their pregnant mother was dumped by her irresp...</td>\n",
       "      <td>3422e4906</td>\n",
       "      <td>7.0</td>\n",
       "      <td>3</td>\n",
       "    </tr>\n",
       "  </tbody>\n",
       "</table>\n",
       "<p>3 rows × 24 columns</p>\n",
       "</div>"
      ],
      "text/plain": [
       "   Type         Name  Age  Breed1  Breed2  Gender  Color1  Color2  Color3  \\\n",
       "0     2       Nibble    3     299       0       1       1       7       0   \n",
       "1     2  No Name Yet    1     265       0       1       1       2       0   \n",
       "2     1       Brisco    1     307       0       1       2       7       0   \n",
       "\n",
       "   MaturitySize  ...  Health  Quantity  Fee  State  \\\n",
       "0             1  ...       1         1  100  41326   \n",
       "1             2  ...       1         1    0  41401   \n",
       "2             2  ...       1         1    0  41326   \n",
       "\n",
       "                          RescuerID  VideoAmt  \\\n",
       "0  8480853f516546f6cf33aa88cd76c379         0   \n",
       "1  3082c7125d8fb66f7dd4bff4192c8b14         0   \n",
       "2  fa90fa5b1ee11c86938398b60abc32cb         0   \n",
       "\n",
       "                                         Description      PetID PhotoAmt  \\\n",
       "0  Nibble is a 3+ month old ball of cuteness. He ...  86e1089a3      1.0   \n",
       "1  I just found it alone yesterday near my apartm...  6296e909a      2.0   \n",
       "2  Their pregnant mother was dumped by her irresp...  3422e4906      7.0   \n",
       "\n",
       "   AdoptionSpeed  \n",
       "0              2  \n",
       "1              0  \n",
       "2              3  \n",
       "\n",
       "[3 rows x 24 columns]"
      ]
     },
     "execution_count": 4,
     "metadata": {},
     "output_type": "execute_result"
    }
   ],
   "source": [
    "df.head(3)"
   ]
  },
  {
   "cell_type": "code",
   "execution_count": 636,
   "metadata": {
    "ExecuteTime": {
     "end_time": "2019-03-03T22:43:51.498507Z",
     "start_time": "2019-03-03T22:43:51.466228Z"
    }
   },
   "outputs": [
    {
     "data": {
      "text/plain": [
       "Index(['Type', 'Name', 'Age', 'Breed1', 'Breed2', 'Gender', 'Color1', 'Color2',\n",
       "       'Color3', 'MaturitySize', 'FurLength', 'Vaccinated', 'Dewormed',\n",
       "       'Sterilized', 'Health', 'Quantity', 'Fee', 'State', 'RescuerID',\n",
       "       'VideoAmt', 'Description', 'PetID', 'PhotoAmt', 'AdoptionSpeed'],\n",
       "      dtype='object')"
      ]
     },
     "execution_count": 636,
     "metadata": {},
     "output_type": "execute_result"
    }
   ],
   "source": [
    "df.columns"
   ]
  },
  {
   "cell_type": "code",
   "execution_count": 5,
   "metadata": {
    "ExecuteTime": {
     "end_time": "2019-03-03T13:12:16.885590Z",
     "start_time": "2019-03-03T13:12:16.873432Z"
    }
   },
   "outputs": [],
   "source": [
    "#TODO clean up Descriptions nan's with  some imputer in text pipeline\n",
    "df.Description.fillna('missing',inplace=True)"
   ]
  },
  {
   "cell_type": "code",
   "execution_count": 372,
   "metadata": {
    "ExecuteTime": {
     "end_time": "2019-03-03T19:55:37.820650Z",
     "start_time": "2019-03-03T19:55:37.789135Z"
    }
   },
   "outputs": [],
   "source": [
    "from sklearn.pipeline import Pipeline\n",
    "from sklearn.pipeline import make_pipeline\n",
    "\n",
    "from sklearn.preprocessing import Binarizer,MinMaxScaler,StandardScaler\n",
    "from sklearn.preprocessing import OneHotEncoder,QuantileTransformer\n",
    "from sklearn.impute import SimpleImputer\n",
    "from sklearn.model_selection import train_test_split, GridSearchCV\n",
    "from sklearn.model_selection import StratifiedKFold\n",
    "from sklearn.model_selection import cross_val_score\n",
    "\n",
    "from sklearn.compose import ColumnTransformer\n",
    "from sklearn.compose import make_column_transformer\n",
    "from sklearn.feature_extraction.text import CountVectorizer\n",
    "from sklearn.feature_extraction.text import TfidfVectorizer\n",
    "from sklearn.decomposition import TruncatedSVD\n",
    "\n",
    "from sklearn.naive_bayes import MultinomialNB\n",
    "from sklearn.svm import SVC,SVR\n",
    "from sklearn.tree import DecisionTreeClassifier as DTC\n",
    "from sklearn.ensemble import RandomForestClassifier as RFC\n",
    "from sklearn.ensemble import RandomForestRegressor as RFR\n",
    "from sklearn.ensemble import VotingClassifier\n",
    "from sklearn.linear_model import LinearRegression,Lasso\n",
    "\n",
    "from lightgbm import LGBMClassifier, LGBMRegressor\n",
    "from xgboost import XGBClassifier,XGBRegressor\n",
    "\n",
    "from sklearn.metrics import classification_report\n",
    "from sklearn.metrics import cohen_kappa_score,make_scorer\n",
    "\n",
    "from sklearn.base import BaseEstimator,RegressorMixin,TransformerMixin"
   ]
  },
  {
   "cell_type": "code",
   "execution_count": 370,
   "metadata": {
    "ExecuteTime": {
     "end_time": "2019-03-03T19:54:43.939955Z",
     "start_time": "2019-03-03T19:54:43.891871Z"
    }
   },
   "outputs": [],
   "source": [
    "class Pipeout(Pipeline):\n",
    "    def predict(self,*args,**kwargs):\n",
    "        yh = super(Pipeout,self).predict(*args,**kwargs)\n",
    "        l = len(yh)\n",
    "        d = dict(zip(range(l),yh))\n",
    "        sorted_by_value = sorted(d.items(), key=lambda kv: kv[1])\n",
    "        thrs = []\n",
    "        cnt = 0\n",
    "        for i,k in enumerate(sorted_by_value):\n",
    "            if cnt<5 and i/l>rates[cnt]:\n",
    "                cnt+=1\n",
    "                thrs.append(k[1])\n",
    "        #thrs.append(4)\n",
    "        thrs = np.array(thrs)\n",
    "        print(thrs)\n",
    "        res = np.repeat(yh[np.newaxis,...], 4, axis=0) > np.repeat(thrs[np.newaxis,...], l, axis=0).T\n",
    "        yt = res.sum(axis=0)\n",
    "        return yt\n",
    "        "
   ]
  },
  {
   "cell_type": "code",
   "execution_count": 371,
   "metadata": {
    "ExecuteTime": {
     "end_time": "2019-03-03T19:54:46.963076Z",
     "start_time": "2019-03-03T19:54:46.924831Z"
    }
   },
   "outputs": [],
   "source": [
    "class AveragingModels(BaseEstimator, RegressorMixin, TransformerMixin):\n",
    "    def __init__(self, models):\n",
    "        self.models = models\n",
    "        \n",
    "    # we define clones of the original models to fit the data in\n",
    "    def fit(self, X, y):\n",
    "        self.models_ =self.models#= [clone(x) for x in self.models]\n",
    "        \n",
    "        # Train cloned base models\n",
    "        for model in self.models_:\n",
    "            model.fit(X, y)\n",
    "\n",
    "        return self\n",
    "    \n",
    "    #Now we do the predictions for cloned models and average them\n",
    "    def predict(self, X):\n",
    "        predictions = np.column_stack([\n",
    "            model.predict(X) for model in self.models_\n",
    "        ])\n",
    "        return np.mean(predictions, axis=1)   "
   ]
  },
  {
   "cell_type": "code",
   "execution_count": 686,
   "metadata": {
    "ExecuteTime": {
     "end_time": "2019-03-03T22:53:13.597274Z",
     "start_time": "2019-03-03T22:53:13.543866Z"
    }
   },
   "outputs": [],
   "source": [
    "#lgbm = LGBMClassifier(objective='multiclass',**params)\n",
    "params = {'application': 'regression',\n",
    "          'boosting': 'gbdt',\n",
    "          'metric': 'mse',\n",
    "          'num_leaves': 70,\n",
    "          'max_depth': -1,\n",
    "          'learning_rate': 0.01,\n",
    "          'bagging_fraction': 0.85,\n",
    "          'feature_fraction': 0.8,\n",
    "          'min_split_gain': 0.02,\n",
    "          'min_child_samples': 150,\n",
    "          'min_child_weight': 0.02,\n",
    "          'lambda_l2': 0.0475,\n",
    "          'verbosity': -1}\n",
    "lgbm_c = LGBMClassifier(metric='cohen_kappa_score')\n",
    "lgbm_r = LGBMRegressor(**params)\n",
    "xgb_c = XGBClassifier(metric='cohen_kappa_score')\n",
    "xgb_r = XGBRegressor()\n",
    "vtc = VotingClassifier(estimators=[('dt',DTC()),('rf',RFC()),('lgbm',lgbm_c),('xgb',xgb_c)],voting='hard')\n",
    "ave = AveragingModels(models=(xgb_r,lgbm_r,RFR()))#,SVR(),LinearRegression(),Lasso()))\n"
   ]
  },
  {
   "cell_type": "code",
   "execution_count": 687,
   "metadata": {
    "ExecuteTime": {
     "end_time": "2019-03-03T22:53:15.061021Z",
     "start_time": "2019-03-03T22:53:15.015710Z"
    }
   },
   "outputs": [],
   "source": [
    "rates = (df.AdoptionSpeed.value_counts()/df.AdoptionSpeed.value_counts().sum()).values[::-1]\n",
    "rates = np.cumsum(rates)"
   ]
  },
  {
   "cell_type": "code",
   "execution_count": 734,
   "metadata": {
    "ExecuteTime": {
     "end_time": "2019-03-03T23:05:06.070776Z",
     "start_time": "2019-03-03T23:02:09.927765Z"
    },
    "scrolled": false
   },
   "outputs": [
    {
     "data": {
      "text/plain": [
       "Pipeout(memory=None,\n",
       "    steps=[('preprocessor', ColumnTransformer(n_jobs=None, remainder='drop', sparse_threshold=0.3,\n",
       "         transformer_weights=None,\n",
       "         transformers=[('num', Pipeline(memory=None,\n",
       "     steps=[('scaler', MinMaxScaler(copy=True, feature_range=(0, 1)))]), ['Age', 'Fee', 'PhotoAmt', 'VideoAmt', 'Heal...ors=10, n_jobs=None,\n",
       "           oob_score=False, random_state=None, verbose=0, warm_start=False))))])"
      ]
     },
     "execution_count": 734,
     "metadata": {},
     "output_type": "execute_result"
    }
   ],
   "source": [
    "numeric_features = ['Age','Fee','PhotoAmt','VideoAmt','Health','Quantity']\n",
    "numeric_transformer = Pipeline(steps=[\n",
    "    #('imputer', SimpleImputer(strategy='median')),\n",
    "    ('scaler', MinMaxScaler())])\n",
    "\n",
    "categorical_features = ['State','Type','Breed1','Gender','RescuerID']\n",
    "categorical_transformer = Pipeline(steps=[\n",
    "    #('imputer', SimpleImputer(strategy='constant', fill_value=0)),\n",
    "    ('onehot', OneHotEncoder(handle_unknown='ignore'))])\n",
    "\n",
    "text_features = 'Description'\n",
    "text_transformer = Pipeline(steps=[\n",
    "    #('imputer', SimpleImputer(strategy='constant', fill_value='missing')),\n",
    "    ('bow', TfidfVectorizer(min_df=3,  max_features=None,ngram_range=(1,2),\n",
    "        strip_accents='unicode', analyzer='word',\n",
    "         use_idf=1, smooth_idf=1, sublinear_tf=1))\n",
    "    #('vect',CountVectorizer())ngram_range=(1,2),token_pattern=r'(?u)\\b\\w+\\b',\n",
    "    #('svd',TruncatedSVD(n_components=5))\n",
    "\n",
    "])\n",
    "\n",
    "preprocessor = ColumnTransformer(\n",
    "    transformers=[\n",
    "        ('num', numeric_transformer, numeric_features),\n",
    "        ('cat', categorical_transformer, categorical_features),\n",
    "        ('txt', text_transformer,text_features)],\n",
    "    remainder='drop')\n",
    "\n",
    "\n",
    "clf = Pipeout(steps=[('preprocessor', preprocessor),\n",
    "                      ('classifier', ave)])\n",
    "# clf = Pipeline(steps=[('preprocessor', preprocessor),\n",
    "#                       ('classifier', vtc)])\n",
    "\n",
    "\n",
    "clf.rates = rates\n",
    "\n",
    "X = df.drop('AdoptionSpeed', axis=1)\n",
    "y = df['AdoptionSpeed']\n",
    "\n",
    "X_train, X_test, y_train, y_test = train_test_split(X, y, test_size=0.2,shuffle=True)\n",
    "\n",
    "clf.fit(X_train, y_train)"
   ]
  },
  {
   "cell_type": "code",
   "execution_count": 735,
   "metadata": {
    "ExecuteTime": {
     "end_time": "2019-03-03T23:05:17.620788Z",
     "start_time": "2019-03-03T23:05:16.629476Z"
    },
    "scrolled": true
   },
   "outputs": [
    {
     "name": "stdout",
     "output_type": "stream",
     "text": [
      "[1.85828188 2.22585684 2.44348789 2.7336384 ]\n"
     ]
    }
   ],
   "source": [
    "yh = clf.predict(X_test)\n",
    "#print(\"model score: %.3f\" % clf.score(X_test, y_test))"
   ]
  },
  {
   "cell_type": "code",
   "execution_count": 736,
   "metadata": {
    "ExecuteTime": {
     "end_time": "2019-03-03T23:05:19.082024Z",
     "start_time": "2019-03-03T23:05:18.598877Z"
    },
    "scrolled": true
   },
   "outputs": [
    {
     "data": {
      "image/png": "[encoded data removed]",
      "text/plain": [
       "<Figure size 432x288 with 1 Axes>"
      ]
     },
     "metadata": {
      "needs_background": "light"
     },
     "output_type": "display_data"
    }
   ],
   "source": [
    "plt.hist(yh,normed=True,alpha=.3,color='r')\n",
    "plt.hist(y_test,normed=True,alpha=.2,color='b');\n",
    "#plt.hist(y_test,normed=True,alpha=.2,color='g');\n"
   ]
  },
  {
   "cell_type": "code",
   "execution_count": 737,
   "metadata": {
    "ExecuteTime": {
     "end_time": "2019-03-03T23:05:20.074851Z",
     "start_time": "2019-03-03T23:05:20.015756Z"
    },
    "scrolled": false
   },
   "outputs": [
    {
     "data": {
      "text/plain": [
       "0.3888393918808063"
      ]
     },
     "execution_count": 737,
     "metadata": {},
     "output_type": "execute_result"
    }
   ],
   "source": [
    "cohen_kappa_score(y_test,yh,weights='quadratic')"
   ]
  },
  {
   "cell_type": "code",
   "execution_count": 738,
   "metadata": {
    "ExecuteTime": {
     "end_time": "2019-03-03T23:05:21.496125Z",
     "start_time": "2019-03-03T23:05:21.417129Z"
    },
    "scrolled": true
   },
   "outputs": [
    {
     "name": "stdout",
     "output_type": "stream",
     "text": [
      "              precision    recall  f1-score   support\n",
      "\n",
      "           0       0.11      0.11      0.11        84\n",
      "           1       0.36      0.35      0.36       618\n",
      "           2       0.26      0.31      0.28       651\n",
      "           3       0.34      0.28      0.31       808\n",
      "           4       0.55      0.54      0.55       838\n",
      "\n",
      "   micro avg       0.37      0.37      0.37      2999\n",
      "   macro avg       0.32      0.32      0.32      2999\n",
      "weighted avg       0.38      0.37      0.37      2999\n",
      "\n"
     ]
    }
   ],
   "source": [
    "print(classification_report(yh,y_test))"
   ]
  },
  {
   "cell_type": "code",
   "execution_count": 739,
   "metadata": {
    "ExecuteTime": {
     "end_time": "2019-03-03T23:06:25.227297Z",
     "start_time": "2019-03-03T23:05:24.195747Z"
    },
    "scrolled": true
   },
   "outputs": [
    {
     "name": "stdout",
     "output_type": "stream",
     "text": [
      "[2.00208292 2.28580859 2.43463018 2.68602608]\n",
      "[1.98852395 2.23332668 2.44531023 2.6848322 ]\n",
      "[1.95328184 2.28549451 2.4353313  2.68477738]\n",
      "[1.94921635 2.27957133 2.45017754 2.68732725]\n",
      "[1.93827261 2.29794236 2.47260354 2.74644904]\n"
     ]
    }
   ],
   "source": [
    "scorer = make_scorer(cohen_kappa_score,weights='quadratic')\n",
    "score = cross_val_score(clf,X_test,y_test,cv=5,scoring=scorer)"
   ]
  },
  {
   "cell_type": "code",
   "execution_count": 740,
   "metadata": {
    "ExecuteTime": {
     "end_time": "2019-03-03T23:06:25.240053Z",
     "start_time": "2019-03-03T23:06:25.231425Z"
    },
    "scrolled": true
   },
   "outputs": [
    {
     "data": {
      "text/plain": [
       "(0.32470995990005946, 0.05546258929955522)"
      ]
     },
     "execution_count": 740,
     "metadata": {},
     "output_type": "execute_result"
    }
   ],
   "source": [
    "score.mean(),score.std()*2"
   ]
  },
  {
   "cell_type": "code",
   "execution_count": 741,
   "metadata": {
    "ExecuteTime": {
     "end_time": "2019-03-03T23:06:25.251048Z",
     "start_time": "2019-03-03T23:06:25.243314Z"
    }
   },
   "outputs": [
    {
     "data": {
      "text/plain": [
       "array([0.36150012, 0.31614259, 0.35186562, 0.30560535, 0.28843611])"
      ]
     },
     "execution_count": 741,
     "metadata": {},
     "output_type": "execute_result"
    }
   ],
   "source": [
    "score"
   ]
  },
  {
   "cell_type": "code",
   "execution_count": 132,
   "metadata": {
    "ExecuteTime": {
     "end_time": "2019-03-02T17:45:21.220974Z",
     "start_time": "2019-03-02T17:45:21.200573Z"
    }
   },
   "outputs": [],
   "source": [
    "sub_df = pd.DataFrame()\n",
    "sub_df['PetID'] = X_test['PetID']\n",
    "sub_df['AdoptionSpeed'] = yh\n",
    "sub_df.to_csv('submission.csv', index=False)"
   ]
  },
  {
   "cell_type": "code",
   "execution_count": 203,
   "metadata": {
    "ExecuteTime": {
     "end_time": "2019-03-02T19:42:47.146616Z",
     "start_time": "2019-03-02T19:42:47.143488Z"
    }
   },
   "outputs": [],
   "source": [
    "#cat submission.csv"
   ]
  },
  {
   "cell_type": "code",
   "execution_count": 325,
   "metadata": {
    "ExecuteTime": {
     "end_time": "2019-03-03T19:27:36.158441Z",
     "start_time": "2019-03-03T19:27:36.130106Z"
    }
   },
   "outputs": [],
   "source": [
    "from functools import partial\n",
    "import scipy as sp\n",
    "\n",
    "class OptimizedRounder(object):\n",
    "    def __init__(self):\n",
    "        self.coef_ = 0\n",
    "\n",
    "    def _kappa_loss(self, coef, X, y):\n",
    "        X_p = np.copy(X)\n",
    "        for i, pred in enumerate(X_p):\n",
    "            if pred < coef[0]:\n",
    "                X_p[i] = 0\n",
    "            elif pred >= coef[0] and pred < coef[1]:\n",
    "                X_p[i] = 1\n",
    "            elif pred >= coef[1] and pred < coef[2]:\n",
    "                X_p[i] = 2\n",
    "            elif pred >= coef[2] and pred < coef[3]:\n",
    "                X_p[i] = 3\n",
    "            else:\n",
    "                X_p[i] = 4\n",
    "\n",
    "        ll = cohen_kappa_score(y, X_p,weights='quadratic')\n",
    "        #print(ll)\n",
    "        return -ll\n",
    "\n",
    "    def fit(self, X, y):\n",
    "        loss_partial = partial(self._kappa_loss, X=X, y=y)\n",
    "        initial_coef = [0.5, 1.5, 2.5, 3.5]\n",
    "        self.coef_ = sp.optimize.minimize(loss_partial, initial_coef, method='nelder-mead')\n",
    "\n",
    "    def predict(self, X, coef):\n",
    "        X_p = np.copy(X)\n",
    "        for i, pred in enumerate(X_p):\n",
    "            if pred < coef[0]:\n",
    "                X_p[i] = 0\n",
    "            elif pred >= coef[0] and pred < coef[1]:\n",
    "                X_p[i] = 1\n",
    "            elif pred >= coef[1] and pred < coef[2]:\n",
    "                X_p[i] = 2\n",
    "            elif pred >= coef[2] and pred < coef[3]:\n",
    "                X_p[i] = 3\n",
    "            else:\n",
    "                X_p[i] = 4\n",
    "        return X_p\n",
    "\n",
    "    def coefficients(self):\n",
    "        return self.coef_['x']"
   ]
  },
  {
   "cell_type": "code",
   "execution_count": 729,
   "metadata": {
    "ExecuteTime": {
     "end_time": "2019-03-03T23:00:42.425260Z",
     "start_time": "2019-03-03T23:00:39.116822Z"
    },
    "scrolled": true
   },
   "outputs": [
    {
     "name": "stdout",
     "output_type": "stream",
     "text": [
      "[0.5 1.5 2.5 3.5]\n"
     ]
    }
   ],
   "source": [
    "optR = OptimizedRounder()\n",
    "optR.fit(yh, y_test)\n",
    "print(optR.coefficients())"
   ]
  },
  {
   "cell_type": "code",
   "execution_count": 730,
   "metadata": {
    "ExecuteTime": {
     "end_time": "2019-03-03T23:00:43.746191Z",
     "start_time": "2019-03-03T23:00:43.731869Z"
    }
   },
   "outputs": [],
   "source": [
    "def to_bins(x, borders):\n",
    "    for i in range(len(borders)):\n",
    "        if x <= borders[i]:\n",
    "            return i\n",
    "    return len(borders)"
   ]
  },
  {
   "cell_type": "code",
   "execution_count": 731,
   "metadata": {
    "ExecuteTime": {
     "end_time": "2019-03-03T23:00:44.293077Z",
     "start_time": "2019-03-03T23:00:44.280586Z"
    }
   },
   "outputs": [],
   "source": [
    "b1 = [1.72934627, 2.18584946, 2.44082842, 2.78291749]\n",
    "b2 = [.5,1.5,2.5,3.5]\n",
    "b3 = optR.coefficients()"
   ]
  },
  {
   "cell_type": "code",
   "execution_count": 732,
   "metadata": {
    "ExecuteTime": {
     "end_time": "2019-03-03T23:00:45.186126Z",
     "start_time": "2019-03-03T23:00:45.049300Z"
    }
   },
   "outputs": [],
   "source": [
    "yh1 = [to_bins(y,b3) for y in yh]"
   ]
  },
  {
   "cell_type": "code",
   "execution_count": 733,
   "metadata": {
    "ExecuteTime": {
     "end_time": "2019-03-03T23:00:45.715252Z",
     "start_time": "2019-03-03T23:00:45.636499Z"
    }
   },
   "outputs": [
    {
     "data": {
      "text/plain": [
       "0.4056469973730995"
      ]
     },
     "execution_count": 733,
     "metadata": {},
     "output_type": "execute_result"
    }
   ],
   "source": [
    "cohen_kappa_score(y_test,yh1,weights='quadratic')"
   ]
  },
  {
   "cell_type": "code",
   "execution_count": 425,
   "metadata": {
    "ExecuteTime": {
     "end_time": "2019-03-03T20:04:31.339982Z",
     "start_time": "2019-03-03T20:04:31.328313Z"
    }
   },
   "outputs": [],
   "source": [
    "t = np.array([[1.94597613, 2.23837859, 2.4407445,  2.68963783],\n",
    "[1.90288434, 2.23533751, 2.43645565, 2.7179871 ],\n",
    "[1.88716072, 2.20781459, 2.40011953, 2.66402884],\n",
    "[1.93611705, 2.24331072, 2.43645449, 2.71690461],\n",
    "[1.95247667, 2.2483822,  2.45766914, 2.69984948]])\n"
   ]
  },
  {
   "cell_type": "code",
   "execution_count": 395,
   "metadata": {
    "ExecuteTime": {
     "end_time": "2019-03-03T20:00:01.781134Z",
     "start_time": "2019-03-03T20:00:01.777802Z"
    }
   },
   "outputs": [],
   "source": [
    "b4 = t.mean(axis=0)"
   ]
  },
  {
   "cell_type": "code",
   "execution_count": 400,
   "metadata": {
    "ExecuteTime": {
     "end_time": "2019-03-03T20:01:05.616538Z",
     "start_time": "2019-03-03T20:01:05.600913Z"
    }
   },
   "outputs": [],
   "source": [
    "b4 = np.array([1.92492298, 2.23464472, 2.43428866, 2.69768157])"
   ]
  },
  {
   "cell_type": "code",
   "execution_count": null,
   "metadata": {},
   "outputs": [],
   "source": []
  }
 ],
 "metadata": {
  "kernelspec": {
   "display_name": "Python 3",
   "language": "python",
   "name": "python3"
  },
  "language_info": {
   "codemirror_mode": {
    "name": "ipython",
    "version": 3
   },
   "file_extension": ".py",
   "mimetype": "text/x-python",
   "name": "python",
   "nbconvert_exporter": "python",
   "pygments_lexer": "ipython3",
   "version": "3.6.8"
  }
 },
 "nbformat": 4,
 "nbformat_minor": 2
}
