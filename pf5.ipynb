{
 "cells": [
  {
   "cell_type": "code",
   "execution_count": 4,
   "metadata": {
    "ExecuteTime": {
     "end_time": "2019-03-08T15:02:06.748377Z",
     "start_time": "2019-03-08T15:02:06.718558Z"
    }
   },
   "outputs": [],
   "source": [
    "import pandas as pd\n",
    "import numpy as np\n",
    "import matplotlib.pyplot as plt\n",
    "import pickle\n",
    "from collections import Counter\n",
    "\n",
    "import warnings\n",
    "warnings.filterwarnings('ignore')\n",
    "\n",
    "%matplotlib inline"
   ]
  },
  {
   "cell_type": "code",
   "execution_count": 481,
   "metadata": {
    "ExecuteTime": {
     "end_time": "2019-03-08T19:32:25.413638Z",
     "start_time": "2019-03-08T19:32:25.396009Z"
    }
   },
   "outputs": [],
   "source": [
    "from sklearn.pipeline import Pipeline\n",
    "from sklearn.pipeline import make_pipeline\n",
    "\n",
    "from sklearn.base import BaseEstimator,RegressorMixin,TransformerMixin\n",
    "from sklearn.preprocessing import MinMaxScaler,StandardScaler,QuantileTransformer\n",
    "from sklearn.preprocessing import OneHotEncoder,OrdinalEncoder\n",
    "from sklearn.impute import SimpleImputer\n",
    "from sklearn.model_selection import train_test_split, GridSearchCV,cross_val_score\n",
    "from sklearn.model_selection import StratifiedKFold\n",
    "\n",
    "from sklearn.compose import ColumnTransformer\n",
    "from sklearn.feature_extraction.text import CountVectorizer\n",
    "from sklearn.feature_extraction.text import TfidfVectorizer\n",
    "from sklearn.decomposition import TruncatedSVD,NMF\n",
    "from sklearn.model_selection import StratifiedKFold,KFold\n",
    "\n",
    "from sklearn.ensemble import RandomForestClassifier\n",
    "from lightgbm import LGBMClassifier, LGBMRegressor\n",
    "import lightgbm as lgb\n",
    "\n",
    "from sklearn.metrics import classification_report\n",
    "from sklearn.metrics import cohen_kappa_score,make_scorer\n",
    "\n",
    "from pf_models import *"
   ]
  },
  {
   "cell_type": "code",
   "execution_count": 25,
   "metadata": {
    "ExecuteTime": {
     "end_time": "2019-03-08T15:46:15.607135Z",
     "start_time": "2019-03-08T15:46:15.586474Z"
    }
   },
   "outputs": [],
   "source": [
    "from sklearn.preprocessing import KBinsDiscretizer\n",
    "from sklearn.preprocessing import FunctionTransformer\n",
    "#transformer = FunctionTransformer(np.log1p, validate=True)\n"
   ]
  },
  {
   "cell_type": "code",
   "execution_count": 438,
   "metadata": {
    "ExecuteTime": {
     "end_time": "2019-03-08T19:21:01.738461Z",
     "start_time": "2019-03-08T19:21:01.726239Z"
    }
   },
   "outputs": [],
   "source": [
    "def add_col(df,col,target,funcs):\n",
    "    part_df = df.groupby(col)[target].agg(funcs)#.sort_values(by='count')\n",
    "    part_df.columns = [col+'_'+func for func in funcs]\n",
    "    return df.merge(part_df, how='left', on=col)\n"
   ]
  },
  {
   "cell_type": "code",
   "execution_count": 201,
   "metadata": {
    "ExecuteTime": {
     "end_time": "2019-03-08T17:37:05.117397Z",
     "start_time": "2019-03-08T17:37:04.916195Z"
    }
   },
   "outputs": [],
   "source": [
    "with open('dump_data/train_proc','rb') as f:\n",
    "    df_train = pickle.load(f)\n",
    "    \n",
    "with open('dump_data/test_proc','rb') as f:\n",
    "    df_test = pickle.load(f)"
   ]
  },
  {
   "cell_type": "code",
   "execution_count": 566,
   "metadata": {
    "ExecuteTime": {
     "end_time": "2019-03-08T19:50:49.498673Z",
     "start_time": "2019-03-08T19:50:49.455393Z"
    }
   },
   "outputs": [],
   "source": [
    "tdf = pd.concat([df_train,df_test])\n",
    "\n",
    "target = ['AdoptionSpeed']\n",
    "text_features = ['Description', 'metadata_annots_top_desc', 'sentiment_entities']\n",
    "\n",
    "factor_features = ['main_breed_BreedName', 'second_breed_BreedName']\n",
    "\n",
    "categorical_features = [#TODO CHECK if it matters \n",
    "                        #'Breed1','Breed2',\n",
    "                        #'main_breed_Type','second_breed_Type',\n",
    "                        #'State',\n",
    "                        #'Sterilized',\n",
    "                        #'RescuerID_COUNT',\n",
    "                        'Type','Gender',\n",
    "                        #'Dewormed','Vaccinated'\n",
    "                        ]\n",
    "\n",
    "to_drop_features = ['PetID', 'Name', 'RescuerID',\n",
    "                   #'Color1','Color2','Color3',\n",
    "                   #'State',\n",
    "                   #'Breed1','Breed2',\n",
    "                   #'main_breed_Type','second_breed_Type',\n",
    "                   #'main_breed_BreedName', 'second_breed_BreedName',\n",
    "                   #'MaturitySize','FurLength'\n",
    "                   ]\n",
    "\n",
    "for c in text_features:\n",
    "    tdf.loc[:, c].fillna('<MISSING>',inplace=True)"
   ]
  },
  {
   "cell_type": "code",
   "execution_count": 567,
   "metadata": {
    "ExecuteTime": {
     "end_time": "2019-03-08T19:50:49.701578Z",
     "start_time": "2019-03-08T19:50:49.672253Z"
    }
   },
   "outputs": [],
   "source": [
    "tdf = tdf[['Type','Breed1','Breed2','AdoptionSpeed','Description','Age','State','Type','Gender','RescuerID']]"
   ]
  },
  {
   "cell_type": "code",
   "execution_count": null,
   "metadata": {},
   "outputs": [],
   "source": [
    "#rescuer_count = tdf.groupby(['RescuerID'])['PetID'].count().reset_index()\n",
    "#rescuer_count.columns = ['RescuerID', 'RescuerID_COUNT']\n",
    "#tdf = tdf.merge(rescuer_count, how='left', on='RescuerID')\n",
    "#transformer = FunctionTransformer(np.log1p, validate=True)\n"
   ]
  },
  {
   "cell_type": "code",
   "execution_count": 568,
   "metadata": {
    "ExecuteTime": {
     "end_time": "2019-03-08T19:50:50.891250Z",
     "start_time": "2019-03-08T19:50:50.792131Z"
    }
   },
   "outputs": [],
   "source": [
    "tdf = add_col(tdf,'Breed1','AdoptionSpeed',['mean'])\n",
    "tdf = add_col(tdf,'Breed2','AdoptionSpeed',['mean'])\n",
    "tdf = add_col(tdf,'State','AdoptionSpeed',['mean'])\n",
    "tdf = add_col(tdf,'RescuerID','Age',['count'])\n"
   ]
  },
  {
   "cell_type": "code",
   "execution_count": 569,
   "metadata": {
    "ExecuteTime": {
     "end_time": "2019-03-08T19:50:51.183085Z",
     "start_time": "2019-03-08T19:50:51.157859Z"
    }
   },
   "outputs": [
    {
     "data": {
      "text/html": [
       "<div>\n",
       "<style scoped>\n",
       "    .dataframe tbody tr th:only-of-type {\n",
       "        vertical-align: middle;\n",
       "    }\n",
       "\n",
       "    .dataframe tbody tr th {\n",
       "        vertical-align: top;\n",
       "    }\n",
       "\n",
       "    .dataframe thead th {\n",
       "        text-align: right;\n",
       "    }\n",
       "</style>\n",
       "<table border=\"1\" class=\"dataframe\">\n",
       "  <thead>\n",
       "    <tr style=\"text-align: right;\">\n",
       "      <th></th>\n",
       "      <th>Type</th>\n",
       "      <th>Breed1</th>\n",
       "      <th>Breed2</th>\n",
       "      <th>AdoptionSpeed</th>\n",
       "      <th>Description</th>\n",
       "      <th>Age</th>\n",
       "      <th>State</th>\n",
       "      <th>Type</th>\n",
       "      <th>Gender</th>\n",
       "      <th>RescuerID</th>\n",
       "      <th>Breed1_mean</th>\n",
       "      <th>Breed2_mean</th>\n",
       "      <th>State_mean</th>\n",
       "      <th>RescuerID_count</th>\n",
       "    </tr>\n",
       "  </thead>\n",
       "  <tbody>\n",
       "    <tr>\n",
       "      <th>0</th>\n",
       "      <td>2</td>\n",
       "      <td>299</td>\n",
       "      <td>0</td>\n",
       "      <td>2.0</td>\n",
       "      <td>Nibble is a 3+ month old ball of cuteness. He ...</td>\n",
       "      <td>3</td>\n",
       "      <td>41326</td>\n",
       "      <td>2</td>\n",
       "      <td>1</td>\n",
       "      <td>8480853f516546f6cf33aa88cd76c379</td>\n",
       "      <td>2.421053</td>\n",
       "      <td>2.538469</td>\n",
       "      <td>2.452031</td>\n",
       "      <td>8</td>\n",
       "    </tr>\n",
       "    <tr>\n",
       "      <th>1</th>\n",
       "      <td>2</td>\n",
       "      <td>265</td>\n",
       "      <td>0</td>\n",
       "      <td>0.0</td>\n",
       "      <td>I just found it alone yesterday near my apartm...</td>\n",
       "      <td>1</td>\n",
       "      <td>41401</td>\n",
       "      <td>2</td>\n",
       "      <td>1</td>\n",
       "      <td>3082c7125d8fb66f7dd4bff4192c8b14</td>\n",
       "      <td>2.339428</td>\n",
       "      <td>2.538469</td>\n",
       "      <td>2.540182</td>\n",
       "      <td>1</td>\n",
       "    </tr>\n",
       "    <tr>\n",
       "      <th>2</th>\n",
       "      <td>1</td>\n",
       "      <td>307</td>\n",
       "      <td>0</td>\n",
       "      <td>3.0</td>\n",
       "      <td>Their pregnant mother was dumped by her irresp...</td>\n",
       "      <td>1</td>\n",
       "      <td>41326</td>\n",
       "      <td>1</td>\n",
       "      <td>1</td>\n",
       "      <td>fa90fa5b1ee11c86938398b60abc32cb</td>\n",
       "      <td>2.746077</td>\n",
       "      <td>2.538469</td>\n",
       "      <td>2.452031</td>\n",
       "      <td>459</td>\n",
       "    </tr>\n",
       "    <tr>\n",
       "      <th>3</th>\n",
       "      <td>1</td>\n",
       "      <td>307</td>\n",
       "      <td>0</td>\n",
       "      <td>2.0</td>\n",
       "      <td>Good guard dog, very alert, active, obedience ...</td>\n",
       "      <td>4</td>\n",
       "      <td>41401</td>\n",
       "      <td>1</td>\n",
       "      <td>2</td>\n",
       "      <td>9238e4f44c71a75282e62f7136c6b240</td>\n",
       "      <td>2.746077</td>\n",
       "      <td>2.538469</td>\n",
       "      <td>2.540182</td>\n",
       "      <td>50</td>\n",
       "    </tr>\n",
       "    <tr>\n",
       "      <th>4</th>\n",
       "      <td>1</td>\n",
       "      <td>307</td>\n",
       "      <td>0</td>\n",
       "      <td>2.0</td>\n",
       "      <td>This handsome yet cute boy is up for adoption....</td>\n",
       "      <td>1</td>\n",
       "      <td>41326</td>\n",
       "      <td>1</td>\n",
       "      <td>1</td>\n",
       "      <td>95481e953f8aed9ec3d16fc4509537e8</td>\n",
       "      <td>2.746077</td>\n",
       "      <td>2.538469</td>\n",
       "      <td>2.452031</td>\n",
       "      <td>134</td>\n",
       "    </tr>\n",
       "  </tbody>\n",
       "</table>\n",
       "</div>"
      ],
      "text/plain": [
       "   Type  Breed1  Breed2  AdoptionSpeed  \\\n",
       "0     2     299       0            2.0   \n",
       "1     2     265       0            0.0   \n",
       "2     1     307       0            3.0   \n",
       "3     1     307       0            2.0   \n",
       "4     1     307       0            2.0   \n",
       "\n",
       "                                         Description  Age  State  Type  \\\n",
       "0  Nibble is a 3+ month old ball of cuteness. He ...    3  41326     2   \n",
       "1  I just found it alone yesterday near my apartm...    1  41401     2   \n",
       "2  Their pregnant mother was dumped by her irresp...    1  41326     1   \n",
       "3  Good guard dog, very alert, active, obedience ...    4  41401     1   \n",
       "4  This handsome yet cute boy is up for adoption....    1  41326     1   \n",
       "\n",
       "   Gender                         RescuerID  Breed1_mean  Breed2_mean  \\\n",
       "0       1  8480853f516546f6cf33aa88cd76c379     2.421053     2.538469   \n",
       "1       1  3082c7125d8fb66f7dd4bff4192c8b14     2.339428     2.538469   \n",
       "2       1  fa90fa5b1ee11c86938398b60abc32cb     2.746077     2.538469   \n",
       "3       2  9238e4f44c71a75282e62f7136c6b240     2.746077     2.538469   \n",
       "4       1  95481e953f8aed9ec3d16fc4509537e8     2.746077     2.538469   \n",
       "\n",
       "   State_mean  RescuerID_count  \n",
       "0    2.452031                8  \n",
       "1    2.540182                1  \n",
       "2    2.452031              459  \n",
       "3    2.540182               50  \n",
       "4    2.452031              134  "
      ]
     },
     "execution_count": 569,
     "metadata": {},
     "output_type": "execute_result"
    }
   ],
   "source": [
    "tdf.head()"
   ]
  },
  {
   "cell_type": "code",
   "execution_count": 582,
   "metadata": {
    "ExecuteTime": {
     "end_time": "2019-03-08T19:55:20.305387Z",
     "start_time": "2019-03-08T19:55:20.285967Z"
    }
   },
   "outputs": [],
   "source": [
    "kbd = KBinsDiscretizer(n_bins=10, encode='ordinal', strategy='quantile')\n",
    "qt = QuantileTransformer(n_quantiles=50,output_distribution='normal')\n",
    "\n",
    "bins_features = ['Breed1_mean','Breed2_mean','RescuerID_count']\n",
    "bins_transformer = Pipeline(steps=[\n",
    "    ('imputer', SimpleImputer(strategy='mean')),\n",
    "    ('biner', kbd)\n",
    "])\n",
    "\n",
    "categorical_features = ['Type','Gender',\n",
    "                        #'Dewormed','Vaccinated'\n",
    "                        ]\n",
    "categorical_transformer = Pipeline(steps=[\n",
    "    ('imputer', SimpleImputer(strategy='constant', fill_value=0)),\n",
    "    ('onehot', OneHotEncoder(handle_unknown='ignore'))])\n",
    "\n",
    "\n",
    "numeric_features = ['Age','State_mean']\n",
    "numeric_transformer = Pipeline(steps=[\n",
    "    ('imputer', SimpleImputer(strategy='mean')),\n",
    "    ('normal', qt),\n",
    "    ('scaler', MinMaxScaler())\n",
    "    ])"
   ]
  },
  {
   "cell_type": "code",
   "execution_count": 583,
   "metadata": {
    "ExecuteTime": {
     "end_time": "2019-03-08T19:55:22.042393Z",
     "start_time": "2019-03-08T19:55:22.022682Z"
    }
   },
   "outputs": [],
   "source": [
    "preprocessor = ColumnTransformer(\n",
    "    transformers=[\n",
    "            ('bins',bins_transformer,bins_features),\n",
    "            ('cat',categorical_transformer,categorical_features),\n",
    "            ('nums',numeric_transformer,numeric_features)\n",
    "    ],\n",
    "    remainder='drop')\n",
    "\n",
    "clf = Pipeline(steps=[('preprocessor', preprocessor),('sca',MinMaxScaler())])"
   ]
  },
  {
   "cell_type": "code",
   "execution_count": 545,
   "metadata": {
    "ExecuteTime": {
     "end_time": "2019-03-08T19:46:08.812193Z",
     "start_time": "2019-03-08T19:46:08.808835Z"
    }
   },
   "outputs": [],
   "source": [
    "#clf.named_steps['preprocessor'].named_transformers_['bins'].named_steps['biner'].bin_edges_"
   ]
  },
  {
   "cell_type": "code",
   "execution_count": 584,
   "metadata": {
    "ExecuteTime": {
     "end_time": "2019-03-08T19:55:23.229359Z",
     "start_time": "2019-03-08T19:55:23.208933Z"
    }
   },
   "outputs": [
    {
     "data": {
      "text/plain": [
       "((3948, 13), (14993, 14))"
      ]
     },
     "execution_count": 584,
     "metadata": {},
     "output_type": "execute_result"
    }
   ],
   "source": [
    "mask = tdf.AdoptionSpeed.isnull()\n",
    "X_test = tdf[mask].drop(columns=['AdoptionSpeed'])\n",
    "X_train = tdf[~mask]\n",
    "X_test.shape,X_train.shape"
   ]
  },
  {
   "cell_type": "code",
   "execution_count": 585,
   "metadata": {
    "ExecuteTime": {
     "end_time": "2019-03-08T19:55:23.758326Z",
     "start_time": "2019-03-08T19:55:23.750216Z"
    }
   },
   "outputs": [],
   "source": [
    "model = LGBMClassifier(max_depth=100,n_estimators=100)\n",
    "#model = RandomForestClassifier()"
   ]
  },
  {
   "cell_type": "code",
   "execution_count": 586,
   "metadata": {
    "ExecuteTime": {
     "end_time": "2019-03-08T19:55:24.210820Z",
     "start_time": "2019-03-08T19:55:24.206606Z"
    }
   },
   "outputs": [],
   "source": [
    "n_splits = 10\n",
    "cv = StratifiedKFold(n_splits=n_splits,shuffle=True)\n",
    "cv2 = KFold(n_splits=n_splits,shuffle=True)"
   ]
  },
  {
   "cell_type": "code",
   "execution_count": 587,
   "metadata": {
    "ExecuteTime": {
     "end_time": "2019-03-08T19:55:25.479236Z",
     "start_time": "2019-03-08T19:55:25.391082Z"
    }
   },
   "outputs": [],
   "source": [
    "X = clf.fit_transform(X_train)\n",
    "y = X_train.AdoptionSpeed\n",
    "#y = OneHotEncoder().fit_transform(X_train[['AdoptionSpeed']])"
   ]
  },
  {
   "cell_type": "code",
   "execution_count": 588,
   "metadata": {
    "ExecuteTime": {
     "end_time": "2019-03-08T19:55:25.831872Z",
     "start_time": "2019-03-08T19:55:25.819753Z"
    }
   },
   "outputs": [
    {
     "data": {
      "text/plain": [
       "array([0.22222222, 0.88888889, 0.42857143, 0.        , 1.        ,\n",
       "       0.        , 1.        , 1.        , 0.        , 0.        ,\n",
       "       0.49014389, 0.45677204])"
      ]
     },
     "execution_count": 588,
     "metadata": {},
     "output_type": "execute_result"
    }
   ],
   "source": [
    "X[0]"
   ]
  },
  {
   "cell_type": "code",
   "execution_count": 590,
   "metadata": {
    "ExecuteTime": {
     "end_time": "2019-03-08T19:55:38.946112Z",
     "start_time": "2019-03-08T19:55:34.004765Z"
    },
    "scrolled": true
   },
   "outputs": [
    {
     "data": {
      "text/plain": [
       "(0.35074183711951845, 0.014205973560007298, 0.04050264911843546)"
      ]
     },
     "execution_count": 590,
     "metadata": {},
     "output_type": "execute_result"
    },
    {
     "data": {
      "image/png": "[encoded data removed]",
      "text/plain": [
       "<Figure size 432x288 with 1 Axes>"
      ]
     },
     "metadata": {
      "needs_background": "light"
     },
     "output_type": "display_data"
    }
   ],
   "source": [
    "scorer = make_scorer(cohen_kappa_score,weights='quadratic')\n",
    "scores = cross_val_score(model,X,y,cv=cv,scoring=scorer)\n",
    "plt.plot(scores)\n",
    "scores.mean(),scores.std(),scores.std()/scores.mean()\n"
   ]
  },
  {
   "cell_type": "code",
   "execution_count": null,
   "metadata": {},
   "outputs": [],
   "source": []
  },
  {
   "cell_type": "code",
   "execution_count": null,
   "metadata": {},
   "outputs": [],
   "source": []
  },
  {
   "cell_type": "code",
   "execution_count": null,
   "metadata": {},
   "outputs": [],
   "source": []
  },
  {
   "cell_type": "code",
   "execution_count": null,
   "metadata": {},
   "outputs": [],
   "source": []
  },
  {
   "cell_type": "code",
   "execution_count": null,
   "metadata": {},
   "outputs": [],
   "source": []
  },
  {
   "cell_type": "code",
   "execution_count": null,
   "metadata": {},
   "outputs": [],
   "source": []
  },
  {
   "cell_type": "code",
   "execution_count": null,
   "metadata": {},
   "outputs": [],
   "source": [
    "numeric_transformer = Pipeline(steps=[\n",
    "    ('imputer', SimpleImputer(strategy='constant',fill_value=-9999)),\n",
    "    #('scaler', StandardScaler())\n",
    "    ])\n",
    "\n",
    "\n",
    "\n",
    "categorical_transformer = Pipeline(steps=[\n",
    "    ('imputer', SimpleImputer(strategy='constant', fill_value=0)),\n",
    "    ('onehot', OneHotEncoder(handle_unknown='ignore'))])\n",
    "\n",
    "bins_transformer = Pipeline(steps=[\n",
    "    #('imputer', SimpleImputer(strategy='constant', fill_value='missing')),\n",
    "    ('label_enc', KBinsDiscretizer(n_bins=10, encode='ordinal', strategy='quantile'))\n",
    "])\n",
    "\n",
    "text_transformer = Pipeline(steps=[\n",
    "    ('tf-idf', TfidfVectorizer(stop_words = 'english')),\n",
    "    ('svd',TruncatedSVD(n_components=5))\n",
    "])\n",
    "\n",
    "text_transformer_2 = Pipeline(steps=[\n",
    "    ('tf-idf', TfidfVectorizer(stop_words = 'english')),\n",
    "    ('nmf',NMF(n_components=5))\n",
    "])\n",
    "\n",
    "\n",
    "preprocessor = ColumnTransformer(\n",
    "    transformers=[\n",
    "        #('num', numeric_transformer, numeric_features),\n",
    "        ('cat', categorical_transformer, categorical_features),\n",
    "        ('fact', factor_transformer, factor_features),\n",
    "        *[('txt_1_'+f, text_transformer,f) for f in text_features],\n",
    "        *[('txt_2_'+f, text_transformer_2,f) for f in text_features]\n",
    "    ],\n",
    "    remainder='passthrough')\n",
    "\n",
    "clf = Pipeline(steps=[('preprocessor', preprocessor),('scaler',StandardScaler())])"
   ]
  },
  {
   "cell_type": "code",
   "execution_count": null,
   "metadata": {},
   "outputs": [],
   "source": []
  },
  {
   "cell_type": "code",
   "execution_count": null,
   "metadata": {},
   "outputs": [],
   "source": []
  }
 ],
 "metadata": {
  "kernelspec": {
   "display_name": "Python 3",
   "language": "python",
   "name": "python3"
  },
  "language_info": {
   "codemirror_mode": {
    "name": "ipython",
    "version": 3
   },
   "file_extension": ".py",
   "mimetype": "text/x-python",
   "name": "python",
   "nbconvert_exporter": "python",
   "pygments_lexer": "ipython3",
   "version": "3.6.8"
  }
 },
 "nbformat": 4,
 "nbformat_minor": 2
}
