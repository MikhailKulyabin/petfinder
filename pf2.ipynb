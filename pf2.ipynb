{
 "cells": [
  {
   "cell_type": "code",
   "execution_count": 1,
   "metadata": {
    "ExecuteTime": {
     "end_time": "2019-03-04T16:35:01.227507Z",
     "start_time": "2019-03-04T16:35:00.759027Z"
    }
   },
   "outputs": [],
   "source": [
    "import pandas as pd\n",
    "import numpy as np\n",
    "import matplotlib.pyplot as plt\n",
    "import pickle\n",
    "\n",
    "import warnings\n",
    "warnings.filterwarnings('ignore')\n",
    "\n",
    "%matplotlib inline"
   ]
  },
  {
   "cell_type": "code",
   "execution_count": 2,
   "metadata": {
    "ExecuteTime": {
     "end_time": "2019-03-04T16:35:01.231399Z",
     "start_time": "2019-03-04T16:35:01.229337Z"
    }
   },
   "outputs": [],
   "source": [
    "#path = '/home/gsm/Documents/extras/kaggle/petfinder/'\n",
    "#df = pd.read_csv(path+'train/train.csv')"
   ]
  },
  {
   "cell_type": "code",
   "execution_count": 3,
   "metadata": {
    "ExecuteTime": {
     "end_time": "2019-03-04T16:35:01.273671Z",
     "start_time": "2019-03-04T16:35:01.232968Z"
    }
   },
   "outputs": [],
   "source": [
    "with open('dump_data/train_proc','rb') as f:\n",
    "    df = pickle.load(f)"
   ]
  },
  {
   "cell_type": "code",
   "execution_count": 4,
   "metadata": {
    "ExecuteTime": {
     "end_time": "2019-03-04T16:35:01.327749Z",
     "start_time": "2019-03-04T16:35:01.276822Z"
    }
   },
   "outputs": [],
   "source": [
    "tdf = df.copy()\n",
    "\n",
    "target = ['AdoptionSpeed']\n",
    "\n",
    "#num_columns = ['Age']\n",
    "text_features = ['Description', 'metadata_annots_top_desc', 'sentiment_entities']\n",
    "\n",
    "categorical_features = [#TODO CHECK if it matters 'main_breed_BreedName', 'second_breed_BreedName',\n",
    "                       'Breed1','Breed2',\n",
    "                        'Type','Gender','Dewormed','Vaccinated','RescuerID_COUNT']\n",
    "\n",
    "to_drop_features = ['PetID', 'Name', 'RescuerID',\n",
    "                   'Color1','Color2','Color3',\n",
    "                   #'Breed1','Breed2',\n",
    "                   'main_breed_BreedName', 'second_breed_BreedName',\n",
    "                   'MaturitySize','FurLength']\n",
    "\n",
    "numeric_features = list(set(tdf.columns.values) -set(target) - set(text_features) - set(categorical_features) - set(to_drop_features))"
   ]
  },
  {
   "cell_type": "code",
   "execution_count": 5,
   "metadata": {
    "ExecuteTime": {
     "end_time": "2019-03-04T16:35:01.343052Z",
     "start_time": "2019-03-04T16:35:01.330526Z"
    }
   },
   "outputs": [],
   "source": [
    "rates = (df.AdoptionSpeed.value_counts()/df.AdoptionSpeed.value_counts().sum()).values[::-1]\n",
    "rates = np.cumsum(rates)"
   ]
  },
  {
   "cell_type": "code",
   "execution_count": 6,
   "metadata": {
    "ExecuteTime": {
     "end_time": "2019-03-04T16:35:01.402485Z",
     "start_time": "2019-03-04T16:35:01.344619Z"
    }
   },
   "outputs": [],
   "source": [
    "rescuer_count = tdf.groupby(['RescuerID'])['PetID'].count().reset_index()\n",
    "rescuer_count.columns = ['RescuerID', 'RescuerID_COUNT']\n",
    "tdf = tdf.merge(rescuer_count, how='left', on='RescuerID')\n",
    "\n",
    "for c in text_features:\n",
    "    tdf.loc[:, c].fillna('<MISSING>',inplace=True)\n"
   ]
  },
  {
   "cell_type": "code",
   "execution_count": 7,
   "metadata": {
    "ExecuteTime": {
     "end_time": "2019-03-04T16:35:01.763063Z",
     "start_time": "2019-03-04T16:35:01.404075Z"
    }
   },
   "outputs": [],
   "source": [
    "from sklearn.pipeline import Pipeline\n",
    "from sklearn.pipeline import make_pipeline\n",
    "\n",
    "from sklearn.base import BaseEstimator,RegressorMixin,TransformerMixin\n",
    "from sklearn.preprocessing import Binarizer,MinMaxScaler,StandardScaler\n",
    "from sklearn.preprocessing import OneHotEncoder,QuantileTransformer\n",
    "from sklearn.impute import SimpleImputer\n",
    "from sklearn.model_selection import train_test_split, GridSearchCV\n",
    "from sklearn.model_selection import StratifiedKFold\n",
    "from sklearn.model_selection import cross_val_score\n",
    "\n",
    "from sklearn.compose import ColumnTransformer\n",
    "from sklearn.compose import make_column_transformer\n",
    "from sklearn.feature_extraction.text import CountVectorizer\n",
    "from sklearn.feature_extraction.text import TfidfVectorizer\n",
    "from sklearn.decomposition import TruncatedSVD\n",
    "\n",
    "from sklearn.naive_bayes import MultinomialNB\n",
    "from sklearn.svm import SVC,SVR\n",
    "from sklearn.tree import DecisionTreeClassifier as DTC\n",
    "from sklearn.ensemble import RandomForestClassifier as RFC\n",
    "from sklearn.ensemble import RandomForestRegressor as RFR\n",
    "from sklearn.ensemble import VotingClassifier\n",
    "from sklearn.linear_model import LinearRegression,Lasso\n",
    "\n",
    "from lightgbm import LGBMClassifier, LGBMRegressor\n",
    "from xgboost import XGBClassifier,XGBRegressor\n",
    "\n",
    "from sklearn.metrics import classification_report\n",
    "from sklearn.metrics import cohen_kappa_score,make_scorer\n",
    "\n",
    "from pf_models import *"
   ]
  },
  {
   "cell_type": "code",
   "execution_count": 61,
   "metadata": {
    "ExecuteTime": {
     "end_time": "2019-03-04T16:52:58.473767Z",
     "start_time": "2019-03-04T16:52:58.438723Z"
    }
   },
   "outputs": [],
   "source": [
    "#model = LGBMClassifier()\n",
    "\n",
    "params = {'application': 'regression',\n",
    "          'boosting': 'gbdt',\n",
    "          'metric': 'mse',\n",
    "          'num_leaves': 70,\n",
    "          'max_depth': 9,\n",
    "          'learning_rate': 0.01,\n",
    "          'bagging_fraction': 0.85,\n",
    "          'feature_fraction': 0.8,\n",
    "          'min_split_gain': 0.02,\n",
    "          'min_child_samples': 150,\n",
    "          'min_child_weight': 0.02,\n",
    "          'lambda_l2': 0.0475,\n",
    "          'verbosity': -1\n",
    "         }\n",
    "\n",
    "model = LGBMRegressor(early_stop = 500,\n",
    "verbose_eval = 100,\n",
    "num_rounds = 10000,\n",
    "n_splits = 5,**params)"
   ]
  },
  {
   "cell_type": "code",
   "execution_count": 62,
   "metadata": {
    "ExecuteTime": {
     "end_time": "2019-03-04T16:53:40.275092Z",
     "start_time": "2019-03-04T16:53:18.444557Z"
    },
    "scrolled": false
   },
   "outputs": [
    {
     "data": {
      "text/plain": [
       "Pipeout(memory=None, mode=None,\n",
       "    rates=array([0.02735, 0.23344, 0.45081, 0.72007, 1.     ]),\n",
       "    steps=[('preprocessor', ColumnTransformer(n_jobs=None, remainder='drop', sparse_threshold=0.3,\n",
       "         transformer_weights=None,\n",
       "         transformers=[('num', Pipeline(memory=None,\n",
       "     steps=[('scaler', MinMaxScaler(copy=True, feature_range=(0, 1)))]), ['sentiment_sentiment_score_SUM', 'metadata_... subsample=1.0, subsample_for_bin=200000,\n",
       "       subsample_freq=0, verbose_eval=100, verbosity=-1))])"
      ]
     },
     "execution_count": 62,
     "metadata": {},
     "output_type": "execute_result"
    }
   ],
   "source": [
    "numeric_transformer = Pipeline(steps=[\n",
    "    #('imputer', SimpleImputer(strategy='median')),\n",
    "    ('scaler', MinMaxScaler())])\n",
    "\n",
    "categorical_transformer = Pipeline(steps=[\n",
    "    ('imputer', SimpleImputer(strategy='constant', fill_value=0)),\n",
    "    ('onehot', OneHotEncoder(handle_unknown='ignore'))])\n",
    "\n",
    "text_transformer = Pipeline(steps=[\n",
    "    #('imputer', SimpleImputer(strategy='constant', fill_value='missing')),\n",
    "    ('tf-idf', TfidfVectorizer(ngram_range=(1,2),min_df=2)),\n",
    "    ('svd',TruncatedSVD(n_components=50))\n",
    "    #('vect',CountVectorizer())ngram_range=(1,2),token_pattern=r'(?u)\\b\\w+\\b',\n",
    "])\n",
    "\n",
    "preprocessor = ColumnTransformer(\n",
    "    transformers=[\n",
    "        ('num', numeric_transformer, numeric_features),\n",
    "        ('cat', categorical_transformer, categorical_features)\n",
    "        #*[('txt'+f, text_transformer,f) for f in text_features]\n",
    "    ],\n",
    "    remainder='drop')\n",
    "\n",
    "\n",
    "clf = Pipeout(mode='regr',rates=rates,steps=[('preprocessor', preprocessor),\n",
    "                      ('classifier', model)])\n",
    "\n",
    "# clf = Pipeline(steps=[('preprocessor', preprocessor),\n",
    "#                       ('classifier', vtc)])\n",
    "\n",
    "X = tdf.drop('AdoptionSpeed', axis=1)\n",
    "y = tdf['AdoptionSpeed']\n",
    "\n",
    "X_train, X_test, y_train, y_test = train_test_split(X, y, test_size=0.2,shuffle=True)\n",
    "\n",
    "clf.fit(X_train, y_train)"
   ]
  },
  {
   "cell_type": "code",
   "execution_count": 63,
   "metadata": {
    "ExecuteTime": {
     "end_time": "2019-03-04T16:53:56.594865Z",
     "start_time": "2019-03-04T16:53:54.303791Z"
    }
   },
   "outputs": [],
   "source": [
    "yh_r = clf.predict(X_test)"
   ]
  },
  {
   "cell_type": "code",
   "execution_count": 64,
   "metadata": {
    "ExecuteTime": {
     "end_time": "2019-03-04T16:53:58.432696Z",
     "start_time": "2019-03-04T16:53:58.219955Z"
    }
   },
   "outputs": [
    {
     "data": {
      "image/png": "[encoded data removed]",
      "text/plain": [
       "<Figure size 432x288 with 1 Axes>"
      ]
     },
     "metadata": {
      "needs_background": "light"
     },
     "output_type": "display_data"
    }
   ],
   "source": [
    "plt.hist(yh_r);"
   ]
  },
  {
   "cell_type": "code",
   "execution_count": 65,
   "metadata": {
    "ExecuteTime": {
     "end_time": "2019-03-04T16:54:02.948143Z",
     "start_time": "2019-03-04T16:54:01.459407Z"
    }
   },
   "outputs": [
    {
     "name": "stdout",
     "output_type": "stream",
     "text": [
      "[0.50299943 1.67567264 2.57495013 2.97520555]\n"
     ]
    }
   ],
   "source": [
    "optR = OptimizedRounder()\n",
    "optR.fit(yh_r, y_test)\n",
    "thr = optR.coefficients()\n",
    "print(thr)"
   ]
  },
  {
   "cell_type": "code",
   "execution_count": 13,
   "metadata": {
    "ExecuteTime": {
     "end_time": "2019-03-04T16:35:08.886444Z",
     "start_time": "2019-03-04T16:35:08.830258Z"
    }
   },
   "outputs": [],
   "source": [
    "#yh = optR.predict(yh, thr).astype(int)"
   ]
  },
  {
   "cell_type": "code",
   "execution_count": 66,
   "metadata": {
    "ExecuteTime": {
     "end_time": "2019-03-04T16:54:08.410418Z",
     "start_time": "2019-03-04T16:54:06.026366Z"
    }
   },
   "outputs": [],
   "source": [
    "clf = Pipeout(mode='uncool',rates=thr,steps=[('preprocessor', preprocessor),\n",
    "                      ('classifier', model)])\n",
    "yh_c = clf.predict(X_test)"
   ]
  },
  {
   "cell_type": "code",
   "execution_count": 14,
   "metadata": {
    "ExecuteTime": {
     "end_time": "2019-03-04T16:35:08.917382Z",
     "start_time": "2019-03-04T16:35:08.887846Z"
    }
   },
   "outputs": [],
   "source": [
    "#yh = [to_bins(y,thr) for y in yh]"
   ]
  },
  {
   "cell_type": "code",
   "execution_count": 55,
   "metadata": {
    "ExecuteTime": {
     "end_time": "2019-03-04T16:48:49.516260Z",
     "start_time": "2019-03-04T16:48:49.210044Z"
    }
   },
   "outputs": [
    {
     "data": {
      "text/plain": [
       "0.4326500620755779"
      ]
     },
     "execution_count": 55,
     "metadata": {},
     "output_type": "execute_result"
    },
    {
     "data": {
      "image/png": "[encoded data removed]",
      "text/plain": [
       "<Figure size 432x288 with 1 Axes>"
      ]
     },
     "metadata": {
      "needs_background": "light"
     },
     "output_type": "display_data"
    }
   ],
   "source": [
    "plt.hist(yh_c,normed=True,alpha=.3,color='r')\n",
    "plt.hist(y_test,normed=True,alpha=.2,color='b');\n",
    "#plt.hist(y_test,normed=True,alpha=.2,color='g');\n",
    "cohen_kappa_score(y_test,yh_c,weights='quadratic')"
   ]
  },
  {
   "cell_type": "code",
   "execution_count": 56,
   "metadata": {
    "ExecuteTime": {
     "end_time": "2019-03-04T16:48:59.597016Z",
     "start_time": "2019-03-04T16:48:59.575935Z"
    },
    "scrolled": true
   },
   "outputs": [
    {
     "name": "stdout",
     "output_type": "stream",
     "text": [
      "              precision    recall  f1-score   support\n",
      "\n",
      "           0       0.00      0.00      0.00         0\n",
      "           1       0.31      0.38      0.34       484\n",
      "           2       0.43      0.33      0.37      1080\n",
      "           3       0.24      0.24      0.24       659\n",
      "           4       0.54      0.59      0.56       776\n",
      "\n",
      "   micro avg       0.38      0.38      0.38      2999\n",
      "   macro avg       0.30      0.30      0.30      2999\n",
      "weighted avg       0.40      0.38      0.39      2999\n",
      "\n"
     ]
    }
   ],
   "source": [
    "print(classification_report(yh_c,y_test))"
   ]
  },
  {
   "cell_type": "code",
   "execution_count": 57,
   "metadata": {
    "ExecuteTime": {
     "end_time": "2019-03-04T16:51:25.218662Z",
     "start_time": "2019-03-04T16:49:06.610050Z"
    },
    "scrolled": true
   },
   "outputs": [],
   "source": [
    "scorer = make_scorer(cohen_kappa_score,weights='quadratic')\n",
    "score = cross_val_score(clf,X,y,cv=5,scoring=scorer)"
   ]
  },
  {
   "cell_type": "code",
   "execution_count": 58,
   "metadata": {
    "ExecuteTime": {
     "end_time": "2019-03-04T16:51:32.637581Z",
     "start_time": "2019-03-04T16:51:32.629765Z"
    }
   },
   "outputs": [
    {
     "data": {
      "text/plain": [
       "array([0.43007744, 0.42836289, 0.44631764, 0.42877838, 0.43684471])"
      ]
     },
     "execution_count": 58,
     "metadata": {},
     "output_type": "execute_result"
    }
   ],
   "source": [
    "score"
   ]
  },
  {
   "cell_type": "code",
   "execution_count": 60,
   "metadata": {
    "ExecuteTime": {
     "end_time": "2019-03-04T16:51:46.475325Z",
     "start_time": "2019-03-04T16:51:46.468011Z"
    }
   },
   "outputs": [
    {
     "data": {
      "text/plain": [
       "(0.4340762097935281, 0.0068442133650083335)"
      ]
     },
     "execution_count": 60,
     "metadata": {},
     "output_type": "execute_result"
    }
   ],
   "source": [
    "score.mean(),score.std()"
   ]
  },
  {
   "cell_type": "code",
   "execution_count": null,
   "metadata": {
    "ExecuteTime": {
     "end_time": "2019-03-04T11:07:34.516017Z",
     "start_time": "2019-03-04T11:07:34.507358Z"
    }
   },
   "outputs": [],
   "source": []
  },
  {
   "cell_type": "code",
   "execution_count": 20,
   "metadata": {
    "ExecuteTime": {
     "end_time": "2019-03-04T16:35:27.185240Z",
     "start_time": "2019-03-04T16:35:26.940617Z"
    }
   },
   "outputs": [
    {
     "ename": "NameError",
     "evalue": "name 'n_splits' is not defined",
     "output_type": "error",
     "traceback": [
      "\u001b[0;31m---------------------------------------------------------------------------\u001b[0m",
      "\u001b[0;31mNameError\u001b[0m                                 Traceback (most recent call last)",
      "\u001b[0;32m<ipython-input-20-f6a5711081d9>\u001b[0m in \u001b[0;36m<module>\u001b[0;34m\u001b[0m\n\u001b[1;32m      2\u001b[0m \u001b[0;34m\u001b[0m\u001b[0m\n\u001b[1;32m      3\u001b[0m \u001b[0;34m\u001b[0m\u001b[0m\n\u001b[0;32m----> 4\u001b[0;31m \u001b[0mkfold\u001b[0m \u001b[0;34m=\u001b[0m \u001b[0mStratifiedKFold\u001b[0m\u001b[0;34m(\u001b[0m\u001b[0mn_splits\u001b[0m\u001b[0;34m=\u001b[0m\u001b[0mn_splits\u001b[0m\u001b[0;34m,\u001b[0m \u001b[0mrandom_state\u001b[0m\u001b[0;34m=\u001b[0m\u001b[0;36m1337\u001b[0m\u001b[0;34m)\u001b[0m\u001b[0;34m\u001b[0m\u001b[0;34m\u001b[0m\u001b[0m\n\u001b[0m\u001b[1;32m      5\u001b[0m \u001b[0;34m\u001b[0m\u001b[0m\n\u001b[1;32m      6\u001b[0m \u001b[0;34m\u001b[0m\u001b[0m\n",
      "\u001b[0;31mNameError\u001b[0m: name 'n_splits' is not defined"
     ]
    }
   ],
   "source": [
    "from sklearn.model_selection import StratifiedKFold\n",
    "\n",
    "\n",
    "kfold = StratifiedKFold(n_splits=n_splits, random_state=1337)\n",
    "\n",
    "\n",
    "oof_train = np.zeros((X_train.shape[0]))\n",
    "oof_test = np.zeros((X_test.shape[0], n_splits))\n",
    "\n",
    "\n",
    "i = 0\n",
    "for train_index, valid_index in kfold.split(X_train, X_train['AdoptionSpeed'].values):\n",
    "    \n",
    "    X_tr = X_train.iloc[train_index, :]\n",
    "    X_val = X_train.iloc[valid_index, :]\n",
    "    \n",
    "    y_tr = X_tr['AdoptionSpeed'].values\n",
    "    X_tr = X_tr.drop(['AdoptionSpeed'], axis=1)\n",
    "    \n",
    "    y_val = X_val['AdoptionSpeed'].values\n",
    "    X_val = X_val.drop(['AdoptionSpeed'], axis=1)\n",
    "    \n",
    "    print('\\ny_tr distribution: {}'.format(Counter(y_tr)))\n",
    "    \n",
    "    d_train = lgb.Dataset(X_tr, label=y_tr)\n",
    "    d_valid = lgb.Dataset(X_val, label=y_val)\n",
    "    watchlist = [d_train, d_valid]\n",
    "    \n",
    "    print('training LGB:')\n",
    "    model = lgb.train(params,\n",
    "                      train_set=d_train,\n",
    "                      num_boost_round=num_rounds,\n",
    "                      valid_sets=watchlist,\n",
    "                      verbose_eval=verbose_eval,\n",
    "                      early_stopping_rounds=early_stop)\n",
    "    \n",
    "    val_pred = model.predict(X_val, num_iteration=model.best_iteration)\n",
    "    test_pred = model.predict(X_test, num_iteration=model.best_iteration)\n",
    "    \n",
    "    oof_train[valid_index] = val_pred\n",
    "    oof_test[:, i] = test_pred\n",
    "    \n",
    "    i += 1"
   ]
  },
  {
   "cell_type": "code",
   "execution_count": null,
   "metadata": {},
   "outputs": [],
   "source": []
  },
  {
   "cell_type": "code",
   "execution_count": null,
   "metadata": {},
   "outputs": [],
   "source": []
  },
  {
   "cell_type": "code",
   "execution_count": null,
   "metadata": {
    "ExecuteTime": {
     "end_time": "2019-03-04T16:35:27.188425Z",
     "start_time": "2019-03-04T16:35:00.853Z"
    }
   },
   "outputs": [],
   "source": [
    "pd.read_csv('train.csv',index_col=0)"
   ]
  },
  {
   "cell_type": "code",
   "execution_count": null,
   "metadata": {},
   "outputs": [],
   "source": []
  },
  {
   "cell_type": "code",
   "execution_count": null,
   "metadata": {
    "ExecuteTime": {
     "end_time": "2019-03-04T16:35:27.190239Z",
     "start_time": "2019-03-04T16:35:00.857Z"
    }
   },
   "outputs": [],
   "source": [
    "sub_df = pd.DataFrame()\n",
    "sub_df['PetID'] = X_test['PetID']\n",
    "sub_df['AdoptionSpeed'] = yh\n",
    "sub_df.to_csv('submission.csv', index=False)"
   ]
  },
  {
   "cell_type": "code",
   "execution_count": null,
   "metadata": {},
   "outputs": [],
   "source": []
  },
  {
   "cell_type": "code",
   "execution_count": null,
   "metadata": {},
   "outputs": [],
   "source": []
  },
  {
   "cell_type": "code",
   "execution_count": null,
   "metadata": {},
   "outputs": [],
   "source": []
  }
 ],
 "metadata": {
  "kernelspec": {
   "display_name": "Python 3",
   "language": "python",
   "name": "python3"
  },
  "language_info": {
   "codemirror_mode": {
    "name": "ipython",
    "version": 3
   },
   "file_extension": ".py",
   "mimetype": "text/x-python",
   "name": "python",
   "nbconvert_exporter": "python",
   "pygments_lexer": "ipython3",
   "version": "3.6.8"
  }
 },
 "nbformat": 4,
 "nbformat_minor": 2
}
